{
 "cells": [
  {
   "cell_type": "markdown",
   "id": "938bbd1b",
   "metadata": {},
   "source": [
    "## Description\n",
    "\n",
    "In this notebook I am building a model with ExtraTreesClassifier, tuning it with GridSearchCV.\n",
    "\n",
    "After that - I am using validation set to analyse the quality of model prediction and trying to remove some features to improve it\n"
   ]
  },
  {
   "cell_type": "markdown",
   "id": "f72fbf45",
   "metadata": {},
   "source": [
    "### Import DATA"
   ]
  },
  {
   "cell_type": "code",
   "execution_count": 1,
   "id": "d5fd0fe6",
   "metadata": {},
   "outputs": [],
   "source": [
    "import pandas as pd\n",
    "import os\n",
    "from sklearn.model_selection import GridSearchCV\n",
    "from sklearn.model_selection import train_test_split\n",
    "from sklearn.impute import SimpleImputer\n",
    "from sklearn.pipeline import make_pipeline\n",
    "from sklearn.compose import make_column_transformer\n",
    "import multiprocessing\n",
    "from sklearn.ensemble import ExtraTreesClassifier\n",
    "from sklearn.preprocessing import MinMaxScaler\n",
    "import joblib"
   ]
  },
  {
   "cell_type": "code",
   "execution_count": 2,
   "id": "f2d9135f",
   "metadata": {},
   "outputs": [],
   "source": [
    "pd.set_option('display.max_columns', None)"
   ]
  },
  {
   "cell_type": "code",
   "execution_count": 3,
   "id": "9847b36e",
   "metadata": {},
   "outputs": [],
   "source": [
    "screenshots = pd.read_csv(\"./images/screenshots/screenshots.csv\")\n",
    "\n",
    "screenshots_ph = pd.read_csv(\"./images/screenshots_ph/screenshots_ph.csv\")\n",
    "\n",
    "receipts = pd.read_csv(\"./images/receipts/receipts.csv\")\n",
    "\n",
    "regulars = pd.read_csv(\"./images/regular/regular.csv\")\n",
    "\n",
    "not_good = pd.read_csv(\"./images/not_good/not_good.csv\")\n",
    "\n",
    "superb = pd.read_csv(\"./images/superb/superb.csv\")\n",
    "\n",
    "docs = pd.read_csv(\"./images/docs/docs.csv\")\n",
    "\n",
    "blinked = pd.read_csv(\"./images/blinked/blinked.csv\")\n",
    "\n",
    "test = pd.read_csv(\"./images/test/test.csv\")\n"
   ]
  },
  {
   "cell_type": "markdown",
   "id": "04a0a0cb",
   "metadata": {},
   "source": [
    "### Labeling and spliting"
   ]
  },
  {
   "cell_type": "code",
   "execution_count": 4,
   "id": "d4929669",
   "metadata": {},
   "outputs": [],
   "source": [
    "# from_labels = [\"docs\", \"not_good\", \"receipts\", \"regular\", \"screenshots\", \"screenshots_ph\", \"superb\", \"test\"]\n",
    "\n",
    "label = \"screenshots\"\n",
    "\n",
    "blinked[label] = 0\n",
    "regulars[label] = 0\n",
    "not_good[label] = 0\n",
    "superb[label] = 0\n",
    "screenshots[label] = 1\n",
    "docs[label] = 0\n",
    "screenshots_ph[label] = 0\n",
    "receipts[label] = 0\n",
    "\n",
    "\n",
    "whole_docs = pd.concat([regulars, not_good, superb, screenshots, docs, receipts, screenshots_ph], ignore_index=True)"
   ]
  },
  {
   "cell_type": "code",
   "execution_count": 5,
   "id": "d4001918",
   "metadata": {},
   "outputs": [],
   "source": [
    "whole_docs = whole_docs.drop(columns=[\"filename\"])"
   ]
  },
  {
   "cell_type": "code",
   "execution_count": 6,
   "id": "d0484e74",
   "metadata": {},
   "outputs": [],
   "source": [
    "whole_docs = whole_docs.fillna(0)"
   ]
  },
  {
   "cell_type": "code",
   "execution_count": 7,
   "id": "ca4897f8",
   "metadata": {},
   "outputs": [],
   "source": [
    "y = whole_docs.pop(label)"
   ]
  },
  {
   "cell_type": "code",
   "execution_count": 8,
   "id": "3a5c4833",
   "metadata": {},
   "outputs": [],
   "source": [
    "X_train, X_test, y_train, y_test = train_test_split(whole_docs, y, test_size=0.15, random_state=42)"
   ]
  },
  {
   "cell_type": "markdown",
   "id": "b1195777",
   "metadata": {},
   "source": [
    "## Running on 4 Classifiers"
   ]
  },
  {
   "cell_type": "markdown",
   "id": "5a7b148b",
   "metadata": {},
   "source": [
    "### ExtraTree simple"
   ]
  },
  {
   "cell_type": "code",
   "execution_count": 9,
   "id": "d951f750",
   "metadata": {},
   "outputs": [],
   "source": [
    "import classifiers_3 as c3"
   ]
  },
  {
   "cell_type": "code",
   "execution_count": 10,
   "id": "12d21ccc",
   "metadata": {},
   "outputs": [
    {
     "name": "stdout",
     "output_type": "stream",
     "text": [
      "Fitting 10 folds for each of 324 candidates, totalling 3240 fits\n",
      "Time taken to train the model: 3 minutes and 39.58 seconds\n",
      "Best parameters: {'extratreesclassifier__min_samples_leaf': 1, 'extratreesclassifier__min_samples_split': 2, 'extratreesclassifier__n_estimators': 250}\n",
      "Best score: 0.9853147167100655\n"
     ]
    }
   ],
   "source": [
    "search_scr = c3.extratrees_model(X_train, y_train, c3.param_et)"
   ]
  },
  {
   "cell_type": "markdown",
   "id": "8fb6b10c",
   "metadata": {},
   "source": [
    "### CatBoost"
   ]
  },
  {
   "cell_type": "code",
   "execution_count": 11,
   "id": "a9c56070",
   "metadata": {},
   "outputs": [
    {
     "name": "stdout",
     "output_type": "stream",
     "text": [
      "Fitting 10 folds for each of 54 candidates, totalling 540 fits\n",
      "Time taken to train the model: 11 minutes and 48.64 seconds\n",
      "Best parameters: {'catboostclassifier__depth': 4, 'catboostclassifier__iterations': 300, 'catboostclassifier__l2_leaf_reg': 1e-20}\n",
      "Best score: 0.9899524108826434\n"
     ]
    }
   ],
   "source": [
    "search_cb = c3.catboost_model(X_train, y_train, c3.param_cb)"
   ]
  },
  {
   "cell_type": "markdown",
   "id": "69a8e7d2",
   "metadata": {},
   "source": [
    "### LGBMClassifier"
   ]
  },
  {
   "cell_type": "code",
   "execution_count": 12,
   "id": "e7930e7c",
   "metadata": {},
   "outputs": [
    {
     "name": "stdout",
     "output_type": "stream",
     "text": [
      "Fitting 10 folds for each of 240 candidates, totalling 2400 fits\n",
      "[LightGBM] [Info] Number of positive: 527, number of negative: 2061\n",
      "[LightGBM] [Info] Auto-choosing col-wise multi-threading, the overhead of testing was 0.001236 seconds.\n",
      "You can set `force_col_wise=true` to remove the overhead.\n",
      "[LightGBM] [Info] Total Bins 13003\n",
      "[LightGBM] [Info] Number of data points in the train set: 2588, number of used features: 57\n",
      "[LightGBM] [Info] [binary:BoostFromScore]: pavg=0.203632 -> initscore=-1.363746\n",
      "[LightGBM] [Info] Start training from score -1.363746\n",
      "[LightGBM] [Warning] No further splits with positive gain, best gain: -inf\n",
      "[LightGBM] [Warning] No further splits with positive gain, best gain: -inf\n",
      "[LightGBM] [Warning] No further splits with positive gain, best gain: -inf\n",
      "[LightGBM] [Warning] No further splits with positive gain, best gain: -inf\n",
      "[LightGBM] [Warning] No further splits with positive gain, best gain: -inf\n",
      "[LightGBM] [Warning] No further splits with positive gain, best gain: -inf\n",
      "[LightGBM] [Warning] No further splits with positive gain, best gain: -inf\n",
      "[LightGBM] [Warning] No further splits with positive gain, best gain: -inf\n",
      "[LightGBM] [Warning] No further splits with positive gain, best gain: -inf\n",
      "[LightGBM] [Warning] No further splits with positive gain, best gain: -inf\n",
      "[LightGBM] [Warning] No further splits with positive gain, best gain: -inf\n",
      "[LightGBM] [Warning] No further splits with positive gain, best gain: -inf\n",
      "[LightGBM] [Warning] No further splits with positive gain, best gain: -inf\n",
      "[LightGBM] [Warning] No further splits with positive gain, best gain: -inf\n",
      "[LightGBM] [Warning] No further splits with positive gain, best gain: -inf\n",
      "[LightGBM] [Warning] No further splits with positive gain, best gain: -inf\n",
      "[LightGBM] [Warning] No further splits with positive gain, best gain: -inf\n",
      "[LightGBM] [Warning] No further splits with positive gain, best gain: -inf\n",
      "[LightGBM] [Warning] No further splits with positive gain, best gain: -inf\n",
      "[LightGBM] [Warning] No further splits with positive gain, best gain: -inf\n",
      "[LightGBM] [Warning] No further splits with positive gain, best gain: -inf\n",
      "[LightGBM] [Warning] No further splits with positive gain, best gain: -inf\n",
      "[LightGBM] [Warning] No further splits with positive gain, best gain: -inf\n",
      "[LightGBM] [Warning] No further splits with positive gain, best gain: -inf\n",
      "[LightGBM] [Warning] No further splits with positive gain, best gain: -inf\n",
      "[LightGBM] [Warning] No further splits with positive gain, best gain: -inf\n",
      "[LightGBM] [Warning] No further splits with positive gain, best gain: -inf\n",
      "[LightGBM] [Warning] No further splits with positive gain, best gain: -inf\n",
      "[LightGBM] [Warning] No further splits with positive gain, best gain: -inf\n",
      "[LightGBM] [Warning] No further splits with positive gain, best gain: -inf\n",
      "[LightGBM] [Warning] No further splits with positive gain, best gain: -inf\n",
      "[LightGBM] [Warning] No further splits with positive gain, best gain: -inf\n",
      "[LightGBM] [Warning] No further splits with positive gain, best gain: -inf\n",
      "[LightGBM] [Warning] No further splits with positive gain, best gain: -inf\n",
      "[LightGBM] [Warning] No further splits with positive gain, best gain: -inf\n",
      "[LightGBM] [Warning] No further splits with positive gain, best gain: -inf\n",
      "[LightGBM] [Warning] No further splits with positive gain, best gain: -inf\n",
      "[LightGBM] [Warning] No further splits with positive gain, best gain: -inf\n",
      "[LightGBM] [Warning] No further splits with positive gain, best gain: -inf\n",
      "[LightGBM] [Warning] No further splits with positive gain, best gain: -inf\n",
      "[LightGBM] [Warning] No further splits with positive gain, best gain: -inf\n",
      "[LightGBM] [Warning] No further splits with positive gain, best gain: -inf\n",
      "[LightGBM] [Warning] No further splits with positive gain, best gain: -inf\n",
      "[LightGBM] [Warning] No further splits with positive gain, best gain: -inf\n",
      "[LightGBM] [Warning] No further splits with positive gain, best gain: -inf\n",
      "[LightGBM] [Warning] No further splits with positive gain, best gain: -inf\n",
      "[LightGBM] [Warning] No further splits with positive gain, best gain: -inf\n",
      "[LightGBM] [Warning] No further splits with positive gain, best gain: -inf\n",
      "[LightGBM] [Warning] No further splits with positive gain, best gain: -inf\n",
      "[LightGBM] [Warning] No further splits with positive gain, best gain: -inf\n",
      "[LightGBM] [Warning] No further splits with positive gain, best gain: -inf\n",
      "[LightGBM] [Warning] No further splits with positive gain, best gain: -inf\n",
      "[LightGBM] [Warning] No further splits with positive gain, best gain: -inf\n",
      "[LightGBM] [Warning] No further splits with positive gain, best gain: -inf\n",
      "[LightGBM] [Warning] No further splits with positive gain, best gain: -inf\n",
      "[LightGBM] [Warning] No further splits with positive gain, best gain: -inf\n",
      "[LightGBM] [Warning] No further splits with positive gain, best gain: -inf\n",
      "[LightGBM] [Warning] No further splits with positive gain, best gain: -inf\n",
      "[LightGBM] [Warning] No further splits with positive gain, best gain: -inf\n",
      "[LightGBM] [Warning] No further splits with positive gain, best gain: -inf\n",
      "[LightGBM] [Warning] No further splits with positive gain, best gain: -inf\n",
      "[LightGBM] [Warning] No further splits with positive gain, best gain: -inf\n",
      "[LightGBM] [Warning] No further splits with positive gain, best gain: -inf\n",
      "[LightGBM] [Warning] No further splits with positive gain, best gain: -inf\n",
      "[LightGBM] [Warning] No further splits with positive gain, best gain: -inf\n",
      "[LightGBM] [Warning] No further splits with positive gain, best gain: -inf\n",
      "[LightGBM] [Warning] No further splits with positive gain, best gain: -inf\n",
      "[LightGBM] [Warning] No further splits with positive gain, best gain: -inf\n",
      "[LightGBM] [Warning] No further splits with positive gain, best gain: -inf\n",
      "[LightGBM] [Warning] No further splits with positive gain, best gain: -inf\n",
      "[LightGBM] [Warning] No further splits with positive gain, best gain: -inf\n",
      "[LightGBM] [Warning] No further splits with positive gain, best gain: -inf\n",
      "[LightGBM] [Warning] No further splits with positive gain, best gain: -inf\n",
      "[LightGBM] [Warning] No further splits with positive gain, best gain: -inf\n",
      "[LightGBM] [Warning] No further splits with positive gain, best gain: -inf\n",
      "[LightGBM] [Warning] No further splits with positive gain, best gain: -inf\n",
      "[LightGBM] [Warning] No further splits with positive gain, best gain: -inf\n",
      "[LightGBM] [Warning] No further splits with positive gain, best gain: -inf\n",
      "[LightGBM] [Warning] No further splits with positive gain, best gain: -inf\n",
      "[LightGBM] [Warning] No further splits with positive gain, best gain: -inf\n",
      "[LightGBM] [Warning] No further splits with positive gain, best gain: -inf\n",
      "[LightGBM] [Warning] No further splits with positive gain, best gain: -inf\n",
      "[LightGBM] [Warning] No further splits with positive gain, best gain: -inf\n",
      "[LightGBM] [Warning] No further splits with positive gain, best gain: -inf\n",
      "[LightGBM] [Warning] No further splits with positive gain, best gain: -inf\n",
      "[LightGBM] [Warning] No further splits with positive gain, best gain: -inf\n",
      "[LightGBM] [Warning] No further splits with positive gain, best gain: -inf\n",
      "[LightGBM] [Warning] No further splits with positive gain, best gain: -inf\n",
      "[LightGBM] [Warning] No further splits with positive gain, best gain: -inf\n",
      "[LightGBM] [Warning] No further splits with positive gain, best gain: -inf\n",
      "[LightGBM] [Warning] No further splits with positive gain, best gain: -inf\n",
      "[LightGBM] [Warning] No further splits with positive gain, best gain: -inf\n",
      "[LightGBM] [Warning] No further splits with positive gain, best gain: -inf\n",
      "[LightGBM] [Warning] No further splits with positive gain, best gain: -inf\n",
      "[LightGBM] [Warning] No further splits with positive gain, best gain: -inf\n",
      "[LightGBM] [Warning] No further splits with positive gain, best gain: -inf\n",
      "[LightGBM] [Warning] No further splits with positive gain, best gain: -inf\n",
      "[LightGBM] [Warning] No further splits with positive gain, best gain: -inf\n",
      "[LightGBM] [Warning] No further splits with positive gain, best gain: -inf\n",
      "[LightGBM] [Warning] No further splits with positive gain, best gain: -inf\n",
      "[LightGBM] [Warning] No further splits with positive gain, best gain: -inf\n",
      "[LightGBM] [Warning] No further splits with positive gain, best gain: -inf\n",
      "[LightGBM] [Warning] No further splits with positive gain, best gain: -inf\n",
      "[LightGBM] [Warning] No further splits with positive gain, best gain: -inf\n",
      "[LightGBM] [Warning] No further splits with positive gain, best gain: -inf\n",
      "[LightGBM] [Warning] No further splits with positive gain, best gain: -inf\n",
      "[LightGBM] [Warning] No further splits with positive gain, best gain: -inf\n",
      "[LightGBM] [Warning] No further splits with positive gain, best gain: -inf\n",
      "[LightGBM] [Warning] No further splits with positive gain, best gain: -inf\n",
      "[LightGBM] [Warning] No further splits with positive gain, best gain: -inf\n",
      "[LightGBM] [Warning] No further splits with positive gain, best gain: -inf\n",
      "[LightGBM] [Warning] No further splits with positive gain, best gain: -inf\n",
      "[LightGBM] [Warning] No further splits with positive gain, best gain: -inf\n",
      "[LightGBM] [Warning] No further splits with positive gain, best gain: -inf\n",
      "[LightGBM] [Warning] No further splits with positive gain, best gain: -inf\n",
      "[LightGBM] [Warning] No further splits with positive gain, best gain: -inf\n",
      "[LightGBM] [Warning] No further splits with positive gain, best gain: -inf\n",
      "[LightGBM] [Warning] No further splits with positive gain, best gain: -inf\n",
      "[LightGBM] [Warning] No further splits with positive gain, best gain: -inf\n",
      "[LightGBM] [Warning] No further splits with positive gain, best gain: -inf\n",
      "[LightGBM] [Warning] No further splits with positive gain, best gain: -inf\n",
      "[LightGBM] [Warning] No further splits with positive gain, best gain: -inf\n",
      "[LightGBM] [Warning] No further splits with positive gain, best gain: -inf\n",
      "[LightGBM] [Warning] No further splits with positive gain, best gain: -inf\n",
      "[LightGBM] [Warning] No further splits with positive gain, best gain: -inf\n",
      "[LightGBM] [Warning] No further splits with positive gain, best gain: -inf\n",
      "[LightGBM] [Warning] No further splits with positive gain, best gain: -inf\n",
      "[LightGBM] [Warning] No further splits with positive gain, best gain: -inf\n",
      "[LightGBM] [Warning] No further splits with positive gain, best gain: -inf\n",
      "[LightGBM] [Warning] No further splits with positive gain, best gain: -inf\n",
      "[LightGBM] [Warning] No further splits with positive gain, best gain: -inf\n",
      "[LightGBM] [Warning] No further splits with positive gain, best gain: -inf\n",
      "[LightGBM] [Warning] No further splits with positive gain, best gain: -inf\n",
      "[LightGBM] [Warning] No further splits with positive gain, best gain: -inf\n",
      "Time taken to train the model: 10 minutes and 14.35 seconds\n",
      "Best parameters: {'lgbmclassifier__min_child_samples': 13, 'lgbmclassifier__n_estimators': 250, 'lgbmclassifier__num_leaves': 35}\n",
      "Best score: 0.9903385112687438\n"
     ]
    }
   ],
   "source": [
    "param_lgbm = {\n",
    "        'n_estimators': range(100, 400, 50), \n",
    "        'num_leaves': range(20, 40, 5), \n",
    "        'min_child_samples': range(1, 20, 2)\n",
    "}\n",
    "\n",
    "search_lgbm = c3.lgbm_model(X_train, y_train, c3.param_lgbm)"
   ]
  },
  {
   "cell_type": "markdown",
   "id": "f17cf133",
   "metadata": {},
   "source": [
    "### AdaBoost"
   ]
  },
  {
   "cell_type": "code",
   "execution_count": 13,
   "id": "0a7e3ae0",
   "metadata": {},
   "outputs": [
    {
     "name": "stdout",
     "output_type": "stream",
     "text": [
      "Fitting 10 folds for each of 63 candidates, totalling 630 fits\n"
     ]
    },
    {
     "name": "stdout",
     "output_type": "stream",
     "text": [
      "Time taken to train the model: 8 minutes and 16.11 seconds\n",
      "Best parameters: {'adaboostclassifier__estimator__max_depth': 3, 'adaboostclassifier__learning_rate': 1.0, 'adaboostclassifier__n_estimators': 200}\n",
      "Best score: 0.9907231151417196\n"
     ]
    }
   ],
   "source": [
    "param_adaboost = {\n",
    "        'n_estimators': range(50, 400, 50), \n",
    "        'learning_rate': [0.01, 0.1, 1.0],\n",
    "        'estimator__max_depth': [1, 2, 3]\n",
    "}\n",
    "\n",
    "search_ab = c3.adaboost_model(X_train, y_train, c3.param_adaboost)"
   ]
  },
  {
   "cell_type": "markdown",
   "id": "2328128e",
   "metadata": {},
   "source": [
    "### All 4 classifiers comparison\n",
    "best_score_et = search_scr.best_score_\n",
    "best_score_lgbm = search_lgbm.best_score_\n",
    "best_score_catboost = search_cb.best_score_\n",
    "best_score_adaboost = search_ab.best_score_\n",
    "\n",
    "# Create a list to display the results\n",
    "results = [\n",
    "    ('Extra Trees', best_score_et),\n",
    "    ('LightGBM', best_score_lgbm),\n",
    "    ('CatBoost', best_score_catboost),\n",
    "    ('AdaBoost', best_score_adaboost)\n",
    "]\n",
    "\n",
    "# Print the results in a tabular format\n",
    "print(f\"{'Classifier':<15}{f'Best Score - {label}'}\")\n",
    "for name, score in results:\n",
    "    print(f\"{name:<15}{score:.4f}\")"
   ]
  },
  {
   "cell_type": "code",
   "execution_count": 14,
   "id": "f9b497a2",
   "metadata": {},
   "outputs": [],
   "source": [
    "results = [search_scr, search_lgbm, search_cb, search_ab]\n",
    "\n",
    "results_with_identifiers = [\n",
    "    (search_scr, 'scr'),\n",
    "    (search_lgbm, 'lgbm'),\n",
    "    (search_cb, 'cb'),\n",
    "    (search_ab, 'ab')\n",
    "]\n",
    "\n",
    "classifier_mapping = {\n",
    "    'scr': 'ExtraTrees',\n",
    "    'lgbm': 'LightGBM',\n",
    "    'cb': 'CatBoost',\n",
    "    'ab': 'AdaBoost'\n",
    "}\n",
    "\n",
    "named_steps_estimator = {\n",
    "    'scr': 'extratreesclassifier',\n",
    "    'lgbm': 'lgbmclassifier',\n",
    "    'cb': 'catboostclassifier',\n",
    "    'ab': 'adaboostclassifier'\n",
    "}\n",
    "\n",
    "\n",
    "\n",
    "best_model, best_identifier = results_with_identifiers[0]\n",
    "\n",
    "for model, identifier in results_with_identifiers[1:]:\n",
    "    if model.best_score_ > best_model.best_score_:\n",
    "        best_model = model\n",
    "        best_identifier = identifier\n",
    "\n",
    "# Use best_identifier to get the classifier name from the mapping\n",
    "classifier_name = classifier_mapping.get(best_identifier, 'Unknown')\n",
    "nsteps = named_steps_estimator.get(best_identifier)"
   ]
  },
  {
   "cell_type": "markdown",
   "id": "b85cbcb9",
   "metadata": {},
   "source": [
    "## Confusion matrix"
   ]
  },
  {
   "cell_type": "code",
   "execution_count": 15,
   "id": "79ace901",
   "metadata": {},
   "outputs": [
    {
     "data": {
      "text/plain": [
       "'screenshots'"
      ]
     },
     "execution_count": 15,
     "metadata": {},
     "output_type": "execute_result"
    }
   ],
   "source": [
    "filenames = test.pop(\"filename\")\n",
    "label"
   ]
  },
  {
   "cell_type": "code",
   "execution_count": 16,
   "id": "f0ebba6e",
   "metadata": {},
   "outputs": [
    {
     "data": {
      "text/html": [
       "<div>\n",
       "<style scoped>\n",
       "    .dataframe tbody tr th:only-of-type {\n",
       "        vertical-align: middle;\n",
       "    }\n",
       "\n",
       "    .dataframe tbody tr th {\n",
       "        vertical-align: top;\n",
       "    }\n",
       "\n",
       "    .dataframe thead th {\n",
       "        text-align: right;\n",
       "    }\n",
       "</style>\n",
       "<table border=\"1\" class=\"dataframe\">\n",
       "  <thead>\n",
       "    <tr style=\"text-align: right;\">\n",
       "      <th></th>\n",
       "      <th>filename</th>\n",
       "      <th>prediction</th>\n",
       "    </tr>\n",
       "    <tr>\n",
       "      <th>metric</th>\n",
       "      <th></th>\n",
       "      <th></th>\n",
       "    </tr>\n",
       "  </thead>\n",
       "  <tbody>\n",
       "    <tr>\n",
       "      <th>FN</th>\n",
       "      <td>5</td>\n",
       "      <td>5</td>\n",
       "    </tr>\n",
       "    <tr>\n",
       "      <th>FP</th>\n",
       "      <td>4</td>\n",
       "      <td>4</td>\n",
       "    </tr>\n",
       "    <tr>\n",
       "      <th>not true</th>\n",
       "      <td>57</td>\n",
       "      <td>57</td>\n",
       "    </tr>\n",
       "    <tr>\n",
       "      <th>true</th>\n",
       "      <td>28</td>\n",
       "      <td>28</td>\n",
       "    </tr>\n",
       "  </tbody>\n",
       "</table>\n",
       "</div>"
      ],
      "text/plain": [
       "          filename  prediction\n",
       "metric                        \n",
       "FN               5           5\n",
       "FP               4           4\n",
       "not true        57          57\n",
       "true            28          28"
      ]
     },
     "execution_count": 16,
     "metadata": {},
     "output_type": "execute_result"
    }
   ],
   "source": [
    "prediction = best_model.predict(test)\n",
    "\n",
    "result = pd.DataFrame()\n",
    "result['filename'] = filenames\n",
    "result['prediction'] = prediction\n",
    "\n",
    "result.loc[(result.prediction == 1) & (result.filename.str.contains(label)), \"metric\"] = \"true\"\n",
    "result.loc[(result.prediction == 0) & (result.filename.str.contains(label)), \"metric\"] = \"FN\"\n",
    "result.loc[(result.prediction == 0) & (~result.filename.str.contains(label)), \"metric\"] = \"not true\"\n",
    "result.loc[(result.prediction == 1) & (~result.filename.str.contains(label)), \"metric\"] = \"FP\"\n",
    "\n",
    "result.groupby(\"metric\").count()"
   ]
  },
  {
   "cell_type": "code",
   "execution_count": 17,
   "id": "16f25893",
   "metadata": {},
   "outputs": [
    {
     "data": {
      "text/html": [
       "<div>\n",
       "<style scoped>\n",
       "    .dataframe tbody tr th:only-of-type {\n",
       "        vertical-align: middle;\n",
       "    }\n",
       "\n",
       "    .dataframe tbody tr th {\n",
       "        vertical-align: top;\n",
       "    }\n",
       "\n",
       "    .dataframe thead th {\n",
       "        text-align: right;\n",
       "    }\n",
       "</style>\n",
       "<table border=\"1\" class=\"dataframe\">\n",
       "  <thead>\n",
       "    <tr style=\"text-align: right;\">\n",
       "      <th></th>\n",
       "      <th>filename</th>\n",
       "      <th>prediction</th>\n",
       "      <th>metric</th>\n",
       "    </tr>\n",
       "  </thead>\n",
       "  <tbody>\n",
       "    <tr>\n",
       "      <th>38</th>\n",
       "      <td>screenshots_ph).JPG</td>\n",
       "      <td>0</td>\n",
       "      <td>FN</td>\n",
       "    </tr>\n",
       "    <tr>\n",
       "      <th>45</th>\n",
       "      <td>screenshots_ph777.JPG</td>\n",
       "      <td>0</td>\n",
       "      <td>FN</td>\n",
       "    </tr>\n",
       "    <tr>\n",
       "      <th>62</th>\n",
       "      <td>screenshots_ph.JPG</td>\n",
       "      <td>0</td>\n",
       "      <td>FN</td>\n",
       "    </tr>\n",
       "    <tr>\n",
       "      <th>71</th>\n",
       "      <td>screenshots_ph (9).JPG</td>\n",
       "      <td>0</td>\n",
       "      <td>FN</td>\n",
       "    </tr>\n",
       "    <tr>\n",
       "      <th>73</th>\n",
       "      <td>screenshots_ph (6).JPG</td>\n",
       "      <td>0</td>\n",
       "      <td>FN</td>\n",
       "    </tr>\n",
       "  </tbody>\n",
       "</table>\n",
       "</div>"
      ],
      "text/plain": [
       "                  filename  prediction metric\n",
       "38     screenshots_ph).JPG           0     FN\n",
       "45   screenshots_ph777.JPG           0     FN\n",
       "62      screenshots_ph.JPG           0     FN\n",
       "71  screenshots_ph (9).JPG           0     FN\n",
       "73  screenshots_ph (6).JPG           0     FN"
      ]
     },
     "execution_count": 17,
     "metadata": {},
     "output_type": "execute_result"
    }
   ],
   "source": [
    "result.loc[result.metric == \"FN\"]"
   ]
  },
  {
   "cell_type": "markdown",
   "id": "920242d7",
   "metadata": {},
   "source": [
    "#### Confusion matrix representation"
   ]
  },
  {
   "cell_type": "code",
   "execution_count": 18,
   "id": "5d8c775d",
   "metadata": {},
   "outputs": [
    {
     "data": {
      "image/png": "[encoded data removed]",
      "text/plain": [
       "<Figure size 640x480 with 2 Axes>"
      ]
     },
     "metadata": {},
     "output_type": "display_data"
    }
   ],
   "source": [
    "import numpy as np\n",
    "import matplotlib.pyplot as plt\n",
    "from sklearn.metrics import confusion_matrix\n",
    "import seaborn as sns\n",
    "from matplotlib.colors import ListedColormap, BoundaryNorm\n",
    "\n",
    "# Define your color boundaries and corresponding colors\n",
    "boundaries = [0, 5, 10, 20, 50, 60, 70, 100]  # Assuming 80 is your max value\n",
    "colors = [\n",
    "    'darkgreen',  # 0-5\n",
    "    'green',      # 5-10\n",
    "    '#ffcccc',    # 10-20 (light red)\n",
    "    'red',        # 20-50\n",
    "    'lightblue',  # 50-60\n",
    "    'blue',       # 60-70\n",
    "    'darkblue'    # above 70\n",
    "]\n",
    "\n",
    "# Create a colormap\n",
    "custom_cmap = ListedColormap(colors)\n",
    "norm = BoundaryNorm(boundaries, custom_cmap.N, clip=True)\n",
    "\n",
    "\n",
    "tp = sum(result['metric'] == 'true')  \n",
    "fn = sum(result['metric'] == 'FN')    \n",
    "tn = sum(result['metric'] == 'not true')  \n",
    "fp = sum(result['metric'] == 'FP') \n",
    "\n",
    "conf_matrix = np.array([[tp, fn],\n",
    "                        [fp, tn]])\n",
    "\n",
    "# You can then plot this using seaborn or matplotlib\n",
    "sns.heatmap(conf_matrix, annot=True, fmt='d', cmap=custom_cmap, norm=norm, \n",
    "            xticklabels=['Positive', 'Negative'], \n",
    "            yticklabels=['Positive', 'Negative'])\n",
    "plt.ylabel('Actual Class')\n",
    "plt.xlabel('Predicted Class')\n",
    "plt.title('Confusion Matrix')\n",
    "plt.show()"
   ]
  },
  {
   "cell_type": "markdown",
   "id": "bbb04f08",
   "metadata": {},
   "source": [
    "__________________"
   ]
  },
  {
   "cell_type": "code",
   "execution_count": 19,
   "id": "aca546ec",
   "metadata": {},
   "outputs": [],
   "source": [
    "from sklearn.feature_selection import RFECV"
   ]
  },
  {
   "cell_type": "code",
   "execution_count": 20,
   "id": "f1787a17-cca3-412a-96dc-46813c7d3788",
   "metadata": {},
   "outputs": [
    {
     "name": "stdout",
     "output_type": "stream",
     "text": [
      "Fitting estimator with 57 features.\n",
      "Fitting estimator with 56 features.\n",
      "Fitting estimator with 55 features.\n",
      "Fitting estimator with 54 features.\n",
      "Fitting estimator with 53 features.\n",
      "Fitting estimator with 52 features.\n",
      "Fitting estimator with 51 features.\n",
      "Fitting estimator with 50 features.\n",
      "Fitting estimator with 49 features.\n",
      "Fitting estimator with 48 features.\n",
      "Fitting estimator with 47 features.\n",
      "Fitting estimator with 46 features.\n",
      "Fitting estimator with 45 features.\n",
      "Fitting estimator with 44 features.\n",
      "Fitting estimator with 43 features.\n",
      "Fitting estimator with 42 features.\n",
      "Fitting estimator with 41 features.\n",
      "Fitting estimator with 40 features.\n",
      "Fitting estimator with 39 features.\n",
      "Fitting estimator with 38 features.\n",
      "CPU times: total: 3min 17s\n",
      "Wall time: 10min 49s\n"
     ]
    },
    {
     "data": {
      "text/html": [
       "<div>\n",
       "<style scoped>\n",
       "    .dataframe tbody tr th:only-of-type {\n",
       "        vertical-align: middle;\n",
       "    }\n",
       "\n",
       "    .dataframe tbody tr th {\n",
       "        vertical-align: top;\n",
       "    }\n",
       "\n",
       "    .dataframe thead th {\n",
       "        text-align: right;\n",
       "    }\n",
       "</style>\n",
       "<table border=\"1\" class=\"dataframe\">\n",
       "  <thead>\n",
       "    <tr style=\"text-align: right;\">\n",
       "      <th></th>\n",
       "      <th>filename</th>\n",
       "      <th>prediction</th>\n",
       "    </tr>\n",
       "    <tr>\n",
       "      <th>metric</th>\n",
       "      <th></th>\n",
       "      <th></th>\n",
       "    </tr>\n",
       "  </thead>\n",
       "  <tbody>\n",
       "    <tr>\n",
       "      <th>FN</th>\n",
       "      <td>6</td>\n",
       "      <td>6</td>\n",
       "    </tr>\n",
       "    <tr>\n",
       "      <th>FP</th>\n",
       "      <td>4</td>\n",
       "      <td>4</td>\n",
       "    </tr>\n",
       "    <tr>\n",
       "      <th>not true</th>\n",
       "      <td>57</td>\n",
       "      <td>57</td>\n",
       "    </tr>\n",
       "    <tr>\n",
       "      <th>true</th>\n",
       "      <td>27</td>\n",
       "      <td>27</td>\n",
       "    </tr>\n",
       "  </tbody>\n",
       "</table>\n",
       "</div>"
      ],
      "text/plain": [
       "          filename  prediction\n",
       "metric                        \n",
       "FN               6           6\n",
       "FP               4           4\n",
       "not true        57          57\n",
       "true            27          27"
      ]
     },
     "execution_count": 20,
     "metadata": {},
     "output_type": "execute_result"
    }
   ],
   "source": [
    "%%time\n",
    "best_estimator = best_model.best_estimator_\n",
    "search_RFE = RFECV(best_estimator.named_steps[nsteps], cv=10, scoring=\"accuracy\", n_jobs = multiprocessing.cpu_count() - 1, verbose=3)\n",
    "search_RFE.fit(X_train, y_train)\n",
    "prediction = search_RFE.predict(test)\n",
    "\n",
    "result = pd.DataFrame()\n",
    "result['filename'] = filenames\n",
    "result['prediction'] = prediction\n",
    "\n",
    "result.loc[(result.prediction == 1) & (result.filename.str.contains(label)), \"metric\"] = \"true\"\n",
    "result.loc[(result.prediction == 0) & (result.filename.str.contains(label)), \"metric\"] = \"FN\"\n",
    "result.loc[(result.prediction == 0) & (~result.filename.str.contains(label)), \"metric\"] = \"not true\"\n",
    "result.loc[(result.prediction == 1) & (~result.filename.str.contains(label)), \"metric\"] = \"FP\"\n",
    "\n",
    "result.groupby(\"metric\").count()"
   ]
  },
  {
   "cell_type": "markdown",
   "id": "a02c9079",
   "metadata": {},
   "source": [
    "## Saving the model"
   ]
  },
  {
   "cell_type": "code",
   "execution_count": 21,
   "id": "db65f991",
   "metadata": {},
   "outputs": [
    {
     "name": "stdout",
     "output_type": "stream",
     "text": [
      "Model saved successfully at ./models/screenshots_final_AdaBoost.model\n"
     ]
    }
   ],
   "source": [
    "model_path = f\"./models/{label}_final_{classifier_name}.model\"\n",
    "joblib.dump(search_RFE, model_path)\n",
    "\n",
    "print(f\"Model saved successfully at {model_path}\")"
   ]
  }
 ],
 "metadata": {
  "kernelspec": {
   "display_name": "Python 3 (ipykernel)",
   "language": "python",
   "name": "python3"
  },
  "language_info": {
   "codemirror_mode": {
    "name": "ipython",
    "version": 3
   },
   "file_extension": ".py",
   "mimetype": "text/x-python",
   "name": "python",
   "nbconvert_exporter": "python",
   "pygments_lexer": "ipython3",
   "version": "3.9.18"
  }
 },
 "nbformat": 4,
 "nbformat_minor": 5
}
